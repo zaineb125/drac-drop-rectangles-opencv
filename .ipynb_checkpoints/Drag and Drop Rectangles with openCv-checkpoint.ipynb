{
 "cells": [
  {
   "cell_type": "code",
   "execution_count": 16,
   "id": "c3561048",
   "metadata": {},
   "outputs": [],
   "source": [
    "import cv2\n",
    "import mediapipe as mp\n",
    "import math\n",
    "import cvzone"
   ]
  },
  {
   "cell_type": "code",
   "execution_count": 17,
   "id": "53a661bf",
   "metadata": {},
   "outputs": [],
   "source": [
    "# Initialize the Hand object\n",
    "mp_hands = mp.solutions.hands\n",
    "hands = mp_hands.Hands()"
   ]
  },
  {
   "cell_type": "code",
   "execution_count": 18,
   "id": "abc992da",
   "metadata": {},
   "outputs": [],
   "source": [
    "#Capture video from a camera\n",
    "cap = cv2.VideoCapture(0)"
   ]
  },
  {
   "cell_type": "code",
   "execution_count": 19,
   "id": "9a3fa87f",
   "metadata": {},
   "outputs": [
    {
     "data": {
      "text/plain": [
       "True"
      ]
     },
     "execution_count": 19,
     "metadata": {},
     "output_type": "execute_result"
    }
   ],
   "source": [
    "#set size\n",
    "cap.set(3,1280)\n",
    "#set height\n",
    "cap.set(4,720)\n",
    "#So, in the example code that you posted, cap.set(3, 1280) sets the frame width property to 1280 pixels, and cap.set(4, 720) sets the frame height property to 720 pixels."
   ]
  },
  {
   "cell_type": "code",
   "execution_count": 20,
   "id": "944e3d45",
   "metadata": {},
   "outputs": [],
   "source": [
    "colorR=(255,0,255)\n",
    "#define center and height and width of the rectangle\n",
    "cx,cy,w,h = 100 ,100 ,200,200\n",
    "dictionary = {}\n",
    "cursor_8 =0\n",
    "cursor_12 =0"
   ]
  },
  {
   "cell_type": "code",
   "execution_count": 21,
   "id": "04e02fc0",
   "metadata": {},
   "outputs": [],
   "source": [
    "class DragRect():\n",
    "    def __init__(self,posCenter,size=[200,200]):\n",
    "        self.posCenter=posCenter\n",
    "        self.size=size\n",
    "    def update(self,cursor):\n",
    "        cx,cy=self.posCenter\n",
    "        w,h =self.size\n",
    "        #If the index finger tip is in the rectangle area\n",
    "        if cx-w//2<cursor[0]<cx+w//2 and cy-h//2<cursor[1]<cy+h//2:\n",
    "            self.posCenter =cursor\n",
    "        "
   ]
  },
  {
   "cell_type": "code",
   "execution_count": 22,
   "id": "efb783d0",
   "metadata": {},
   "outputs": [],
   "source": [
    "rectList=[]\n",
    "for x in range(5):\n",
    "    rectList.append(DragRect((x*250+50,150)))"
   ]
  },
  {
   "cell_type": "code",
   "execution_count": 23,
   "id": "113c9189",
   "metadata": {},
   "outputs": [],
   "source": [
    "# Loop over frames from the camera\n",
    "while True:\n",
    "    # Read a frame from the camera\n",
    "    success, img = cap.read()\n",
    "\n",
    "    # If reading the frame was unsuccessful, exit the loop\n",
    "    if not success:\n",
    "        break\n",
    "    \n",
    "    # Convert the frame to RGB\n",
    "    img_rgb = cv2.cvtColor(img, cv2.COLOR_BGR2RGB)\n",
    "    \n",
    "    # Find hand landmarks in the frame\n",
    "    results = hands.process(img_rgb)\n",
    "\n",
    "    # If multiple hands were detected,loop through them and get the position (x,y) of each lm of each hand and draw them on the frame\n",
    "    if results.multi_hand_landmarks:\n",
    "        for hand_landmarks in results.multi_hand_landmarks:\n",
    "            for idx, lm in enumerate(hand_landmarks.landmark):\n",
    "                # Get the coordinates of the index finger tip landmark\n",
    "                if idx == 8:\n",
    "                    cursor_8 = (int(lm.x * img.shape[1]), int(lm.y * img.shape[0]))\n",
    "                if idx == 12:\n",
    "                    cursor_12 = (int(lm.x * img.shape[1]), int(lm.y * img.shape[0]))\n",
    "                x, y = int(lm.x * img.shape[1]), int(lm.y * img.shape[0])\n",
    "                cv2.circle(img, (x, y), 10, (255, 255, 0), -1)\n",
    "            distance=math.dist(cursor_8,cursor_12)\n",
    "            if distance <100 :\n",
    "                for rect in rectList:\n",
    "                    rect.update(cursor_8)\n",
    "                \n",
    "            else :\n",
    "                    colorR =(255,0,255)\n",
    "     \n",
    "    for rect in rectList:\n",
    "        cx,cy=rect.posCenter\n",
    "        w,h =rect.size  \n",
    "        #create rectangle \n",
    "        cv2.rectangle(img,(cx-w//2,cy-h//2),(cx+w//2,cy+h//2),colorR,cv2.FILLED) \n",
    "        cvzone.cornerRect(img,(cx-w//2,cy-h//2,w,h),20,rt=0)\n",
    "    # Display the frame with landmarks drawn on it\n",
    "    cv2.imshow('Hand Detection', img)\n",
    "\n",
    "    # If the 'q' key is pressed, exit the loop\n",
    "    if cv2.waitKey(1) & 0xFF == ord('q'):\n",
    "        break\n",
    "\n",
    "# Release the camera and close the window\n",
    "cap.release()\n",
    "cv2.destroyAllWindows()\n"
   ]
  },
  {
   "cell_type": "code",
   "execution_count": null,
   "id": "d1f9db84",
   "metadata": {},
   "outputs": [],
   "source": []
  }
 ],
 "metadata": {
  "kernelspec": {
   "display_name": "Python 3",
   "language": "python",
   "name": "python3"
  },
  "language_info": {
   "codemirror_mode": {
    "name": "ipython",
    "version": 3
   },
   "file_extension": ".py",
   "mimetype": "text/x-python",
   "name": "python",
   "nbconvert_exporter": "python",
   "pygments_lexer": "ipython3",
   "version": "3.8.8"
  }
 },
 "nbformat": 4,
 "nbformat_minor": 5
}
